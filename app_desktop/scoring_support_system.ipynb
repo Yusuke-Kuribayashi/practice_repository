{
 "cells": [
  {
   "cell_type": "code",
   "execution_count": 15,
   "metadata": {},
   "outputs": [
    {
     "data": {
      "application/vnd.jupyter.widget-view+json": {
       "model_id": "079d9c74be9f4bae8df115ffd0b491f9",
       "version_major": 2,
       "version_minor": 0
      },
      "text/plain": [
       "interactive(children=(Dropdown(description='selected_option', options=('xxx', 'setup', '第1回', '第2回', '第3回', '第…"
      ]
     },
     "metadata": {},
     "output_type": "display_data"
    },
    {
     "data": {
      "text/plain": [
       "<function __main__.program_execution(selected_option)>"
      ]
     },
     "execution_count": 15,
     "metadata": {},
     "output_type": "execute_result"
    }
   ],
   "source": [
    "import os\n",
    "import nbformat\n",
    "from nbconvert import PythonExporter\n",
    "import subprocess\n",
    "from IPython.display import clear_output\n",
    "from ipywidgets import interact, widgets, Layout\n",
    "\n",
    "# comboboxの選択肢\n",
    "options = [\"xxx\", \"setup\", \"第1回\", \"第2回\", \"第3回\", \"第4回\", \"第5回\", \"第6回\", \"第7回\"]\n",
    "\n",
    "def program_execution(selected_option):\n",
    "    if selected_option == \"xxx\":\n",
    "        print(\"optionを選択してください\")\n",
    "    elif selected_option == \"setup\":\n",
    "        print(\"setup\")\n",
    "    else:\n",
    "        print(\"lesson\")\n",
    "\n",
    "interact(program_execution, selected_option=widgets.Dropdown(options=options), layout=Layout(width='100%', height='25px', border='solid'))"
   ]
  },
  {
   "cell_type": "code",
   "execution_count": 2,
   "metadata": {},
   "outputs": [
    {
     "data": {
      "application/vnd.jupyter.widget-view+json": {
       "model_id": "51981c15a0f74db0a20da876c818641a",
       "version_major": 2,
       "version_minor": 0
      },
      "text/plain": [
       "interactive(children=(Dropdown(description='selected_option', options=('Option 1', 'Option 2', 'Option 3'), va…"
      ]
     },
     "metadata": {},
     "output_type": "display_data"
    },
    {
     "data": {
      "text/plain": [
       "<function __main__.show_selected_option(selected_option)>"
      ]
     },
     "execution_count": 2,
     "metadata": {},
     "output_type": "execute_result"
    }
   ],
   "source": [
    "from ipywidgets import interact, widgets\n",
    "\n",
    "# コンボボックスの選択肢\n",
    "options = ['第', 'Option 2', 'Option 3']\n",
    "\n",
    "# 選択されたオプションを表示する関数\n",
    "def show_selected_option(selected_option):\n",
    "    print(\"Selected Option:\", selected_option)\n",
    "\n",
    "# コンボボックスを表示\n",
    "interact(show_selected_option, selected_option=widgets.Dropdown(options=options))\n"
   ]
  },
  {
   "cell_type": "code",
   "execution_count": 17,
   "metadata": {},
   "outputs": [
    {
     "name": "stdout",
     "output_type": "stream",
     "text": [
      "aaa\n"
     ]
    }
   ],
   "source": []
  }
 ],
 "metadata": {
  "kernelspec": {
   "display_name": "Python 3",
   "language": "python",
   "name": "python3"
  },
  "language_info": {
   "codemirror_mode": {
    "name": "ipython",
    "version": 3
   },
   "file_extension": ".py",
   "mimetype": "text/x-python",
   "name": "python",
   "nbconvert_exporter": "python",
   "pygments_lexer": "ipython3",
   "version": "3.9.6"
  }
 },
 "nbformat": 4,
 "nbformat_minor": 2
}
