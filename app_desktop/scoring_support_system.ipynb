{
 "cells": [
  {
   "cell_type": "code",
   "execution_count": 1,
   "metadata": {
    "tags": []
   },
   "outputs": [
    {
     "data": {
      "application/vnd.jupyter.widget-view+json": {
       "model_id": "c0b78299c51c44c7be5061ec4c0c4a85",
       "version_major": 2,
       "version_minor": 0
      },
      "text/plain": [
       "interactive(children=(Dropdown(description='selected_option', options=('xxx', 'setup', '第1回', '第2回', '第3回', '第…"
      ]
     },
     "metadata": {},
     "output_type": "display_data"
    },
    {
     "data": {
      "text/plain": [
       "<function __main__.program_execution(selected_option)>"
      ]
     },
     "execution_count": 1,
     "metadata": {},
     "output_type": "execute_result"
    }
   ],
   "source": [
    "from nbconvert import PythonExporter\n",
    "from IPython.display import clear_output, display\n",
    "from ipywidgets import interact, widgets, Layout\n",
    "import os\n",
    "import nbformat\n",
    "import subprocess\n",
    "from my_module import ScoringLibs\n",
    "\n",
    "slib = ScoringLibs()\n",
    "\n",
    "# comboboxの選択肢\n",
    "options = [\"xxx\", \"setup\", \"第1回\", \"第2回\", \"第3回\", \"第4回\", \"第5回\", \"第6回\", \"第7回\"]\n",
    "\n",
    "def program_execution(selected_option):\n",
    "    if selected_option == \"xxx\":\n",
    "        print(f'optionを選択してください')\n",
    "    elif selected_option == \"setup\":\n",
    "        clear_output()\n",
    "        for i in range(len(options)-2):\n",
    "            DIR_PATH = os.getcwd() + \"/kaitou/\" + options[i+2]\n",
    "            slib.create_dir(DIR_PATH)\n",
    "        print(f'finish setting up successfully')\n",
    "    else:\n",
    "        clear_output()\n",
    "        WORK_DIR = os.getcwd() + \"/kaitou/\" + selected_option\n",
    "        print(f'work_path: {WORK_DIR}')\n",
    "        slib.set_save_dir_path(WORK_DIR)\n",
    "        slib.traverse_folder(WORK_DIR)\n",
    "        clear_output()\n",
    "        slib.run_python_file()\n",
    "\n",
    "interact(program_execution, selected_option=widgets.Dropdown(options=options), layout=Layout(width='100%', height='25px', border='solid'))\n"
   ]
  },
  {
   "cell_type": "code",
   "execution_count": null,
   "metadata": {},
   "outputs": [],
   "source": []
  },
  {
   "cell_type": "code",
   "execution_count": null,
   "metadata": {},
   "outputs": [],
   "source": [
    "from ipywidgets import interact, widgets\n",
    "from IPython.display import display\n",
    "\n",
    "# 選択した値を保存する変数\n",
    "selected_value = None\n",
    "\n",
    "# 対話型ウィジェットのコールバック関数\n",
    "def on_value_change(value):\n",
    "    global selected_value\n",
    "    selected_value = value\n",
    "\n",
    "# 対話型ウィジェットの作成\n",
    "items = ['Option 1', 'Option 2', 'Option 3']\n",
    "dropdown = widgets.Dropdown(options=items, description='Select Option:')\n",
    "dropdown.observe(on_value_change, names='value')\n",
    "\n",
    "# 対話型ウィジェットの表示\n",
    "display(dropdown)\n",
    "\n",
    "# Enterキーが押されるまで待機\n",
    "while True:\n",
    "    input(\"Press Enter to continue...\")\n",
    "    if selected_value is not None:\n",
    "        print(f\"You selected: {selected_value}\")\n",
    "        break\n",
    "    else:\n",
    "        print(\"Please select an option first.\")\n"
   ]
  },
  {
   "cell_type": "code",
   "execution_count": 1,
   "metadata": {
    "tags": []
   },
   "outputs": [
    {
     "name": "stdin",
     "output_type": "stream",
     "text": [
      "please input name aaa\n"
     ]
    },
    {
     "name": "stdout",
     "output_type": "stream",
     "text": [
      "aaa\n"
     ]
    }
   ],
   "source": [
    "name = input(\"please input name\")\n",
    "print(name)"
   ]
  }
 ],
 "metadata": {
  "kernelspec": {
   "display_name": "Python 3 (ipykernel)",
   "language": "python",
   "name": "python3"
  },
  "language_info": {
   "codemirror_mode": {
    "name": "ipython",
    "version": 3
   },
   "file_extension": ".py",
   "mimetype": "text/x-python",
   "name": "python",
   "nbconvert_exporter": "python",
   "pygments_lexer": "ipython3",
   "version": "3.8.16"
  }
 },
 "nbformat": 4,
 "nbformat_minor": 4
}
